{
 "cells": [
  {
   "cell_type": "code",
   "execution_count": 2,
   "metadata": {},
   "outputs": [],
   "source": [
    "from konlpy.tag import Okt\n",
    "import codecs\n",
    "import gensim\n",
    "import time\n",
    "import multiprocessing\n",
    "import logging"
   ]
  },
  {
   "cell_type": "code",
   "execution_count": 2,
   "metadata": {},
   "outputs": [
    {
     "data": {
      "text/plain": [
       "[('서울대학교', 'Noun'),\n",
       " ('~', 'Punctuation'),\n",
       " ('통계학', 'Noun'),\n",
       " ('과', 'Josa'),\n",
       " ('!', 'Punctuation'),\n",
       " ('학생', 'Noun'),\n",
       " ('입니다', 'Adjective'),\n",
       " ('.', 'Punctuation')]"
      ]
     },
     "execution_count": 2,
     "metadata": {},
     "output_type": "execute_result"
    }
   ],
   "source": [
    "Okt().pos(\"나는, 서울대학교 ~통계학과 !학생입니다.\")  # [('오버', 'Noun'), ('워치', 'Noun')]"
   ]
  },
  {
   "cell_type": "code",
   "execution_count": 4,
   "metadata": {},
   "outputs": [],
   "source": [
    "okt = Okt() #Twitter의 형태소 처리기\n",
    "corpus = codecs.open('corpus.txt', 'w', encoding='utf-8')\n",
    "\n",
    "def flat(content):\n",
    "    return [\"{}/{}\".format(word, tag) for word, tag in okt.pos(content)]\n",
    "\n",
    "corpus.write(' '.join(flat(\"깜지는 강아지이고 귀엽다\")) + '\\n')"
   ]
  },
  {
   "cell_type": "code",
   "execution_count": 4,
   "metadata": {},
   "outputs": [],
   "source": [
    "logging.basicConfig(\n",
    "    format='%(asctime)s : %(levelname)s : %(message)s', \n",
    "    level=logging.INFO)"
   ]
  },
  {
   "cell_type": "code",
   "execution_count": 5,
   "metadata": {},
   "outputs": [
    {
     "name": "stdout",
     "output_type": "stream",
     "text": [
      "0/6010095 (0.0%) completed\n",
      "Time to tokenize wikipedia text: 0.07 mins\n"
     ]
    }
   ],
   "source": [
    "#토큰화 과정, 148분 걸렸음, there may be a faster way\n",
    "\n",
    "def report(text, index):\n",
    "    if index % int(len(text)*0.001) == 0:\n",
    "        print('{}/{} ({}%) completed'.format(index,len(text), index / len(text) * 100))\n",
    "\n",
    "def tokenize(line, index, tokenizer, report=None):\n",
    "    if report:\n",
    "        report(text, index) \n",
    "    return tokenizer.morphs(line)\n",
    "\n",
    "t = time.time()\n",
    "\n",
    "with open('text/wiki_data.txt', 'r') as f:\n",
    "     text = f.readlines() #6010095줄\n",
    "token = [tokenize(line, index, okt, report) for index, line in enumerate(text) if index<100]\n",
    "\n",
    "print('Time to tokenize wikipedia text: {} mins'.format(round((time.time() - t) / 60, 2)))"
   ]
  },
  {
   "cell_type": "code",
   "execution_count": 6,
   "metadata": {},
   "outputs": [],
   "source": [
    "cores = multiprocessing.cpu_count() # Count the number of cores in a computer"
   ]
  },
  {
   "cell_type": "code",
   "execution_count": 7,
   "metadata": {},
   "outputs": [],
   "source": [
    "embedding = gensim.models.word2vec.Word2Vec(min_count=5, window=2, size=300, sample=6e-5,\n",
    "                                            alpha=0.03, min_alpha=0.0007, negative=20,workers=cores-1)"
   ]
  },
  {
   "cell_type": "code",
   "execution_count": 8,
   "metadata": {},
   "outputs": [
    {
     "name": "stdout",
     "output_type": "stream",
     "text": [
      "Time to build vocab: 0.0 mins\n"
     ]
    }
   ],
   "source": [
    "t = time.time()\n",
    "\n",
    "embedding.build_vocab(token, progress_per=10000)\n",
    "\n",
    "print('Time to build vocab: {} mins'.format(round((time.time() - t) / 60, 2)))"
   ]
  },
  {
   "cell_type": "code",
   "execution_count": 9,
   "metadata": {},
   "outputs": [
    {
     "name": "stdout",
     "output_type": "stream",
     "text": [
      "Time to train the model: 0.01 mins\n"
     ]
    }
   ],
   "source": [
    "##training the model\n",
    "t = time.time()\n",
    "\n",
    "embedding.train(token, total_examples=embedding.corpus_count, epochs=30, report_delay=1)\n",
    "\n",
    "print('Time to train the model: {} mins'.format(round((time.time() - t) / 60, 2)))"
   ]
  },
  {
   "cell_type": "code",
   "execution_count": 10,
   "metadata": {},
   "outputs": [],
   "source": [
    "#As we do not plan to train the model any further, we are calling init_sims(), which will make the model much more memory-efficient:\n",
    "\n",
    "embedding.init_sims(replace=True)\n",
    "\n",
    "embedding_name = 'kowiki_300size'\n",
    "embedding.save(embedding_name)"
   ]
  },
  {
   "cell_type": "code",
   "execution_count": 16,
   "metadata": {},
   "outputs": [
    {
     "name": "stdout",
     "output_type": "stream",
     "text": [
      "[('제정', 0.4467240869998932), ('두려움', 0.4429143965244293), ('혐오', 0.4345221519470215), ('불안감', 0.4040243923664093), ('栱包', 0.402253657579422), ('증오', 0.38317736983299255), ('분노', 0.3810647130012512), ('스릴러', 0.3755665123462677), ('질린다', 0.3750323951244354), ('치안유지법', 0.3747129440307617)]\n",
      "[('생물', 0.7137835621833801), ('곤충', 0.6817206144332886), ('짐승', 0.6774595379829407), ('식물', 0.6387141942977905), ('포유류', 0.626631498336792), ('포유동물', 0.6182601451873779), ('물고기', 0.610832929611206), ('동식물', 0.609168529510498), ('척추동물', 0.6020264625549316), ('인간', 0.5923241376876831)]\n",
      "[('통계학', 0.5518889427185059), ('분석', 0.5027167797088623), ('자료', 0.4961372911930084), ('수치', 0.48129206895828247), ('센서스', 0.47838157415390015), ('정보', 0.4725317060947418), ('메타분석', 0.4574437737464905), ('조사', 0.4519674777984619), ('연구', 0.44756704568862915), ('기준', 0.44388657808303833)]\n"
     ]
    }
   ],
   "source": [
    "print(embedding.wv.most_similar(positive=[\"공포\"]))\n",
    "print(embedding.wv.most_similar(positive=[\"동물\"]))\n",
    "print(embedding.wv.most_similar(positive=[\"통계\"]))"
   ]
  },
  {
   "cell_type": "code",
   "execution_count": 44,
   "metadata": {},
   "outputs": [
    {
     "name": "stdout",
     "output_type": "stream",
     "text": [
      "0.25804687\n",
      "노래\n"
     ]
    }
   ],
   "source": [
    "print(embedding.wv.similarity('강아지', '귀엽다'))\n",
    "print(embedding.wv.doesnt_match(['강아지', '고양이', '나무', '노래'])) #가장 다른 것 하나를 제외"
   ]
  },
  {
   "cell_type": "code",
   "execution_count": null,
   "metadata": {},
   "outputs": [],
   "source": [
    "print(embedding.wv['컴퓨터']) # 컴퓨터의 word vector 출력"
   ]
  },
  {
   "cell_type": "code",
   "execution_count": 100,
   "metadata": {},
   "outputs": [
    {
     "name": "stdout",
     "output_type": "stream",
     "text": [
      "[('푸틴', 0.520085334777832), ('메드베데프', 0.4510819613933563), ('알렉산드르', 0.4427488148212433)]\n",
      "[('상하이', 0.5591546297073364), ('베이징', 0.5507391691207886), ('톈진', 0.5008012652397156)]\n",
      "[('서울특별시', 0.43822532892227173), ('서울', 0.4104611277580261), ('수원시', 0.3880981206893921)]\n",
      "[('전자공학', 0.5131317377090454), ('유체역학', 0.5029642581939697), ('전산학', 0.5004225969314575)]\n"
     ]
    }
   ],
   "source": [
    "print(embedding.wv.most_similar(positive=['러시아', '오바마'], negative=['미국'], topn=3))\n",
    "print(embedding.wv.most_similar(positive=['중국', '도쿄'], negative=['일본'], topn=3))\n",
    "print(embedding.wv.most_similar(positive=['대한민국', '워싱턴'], negative=['미국'], topn=3))\n",
    "print(embedding.wv.most_similar(positive=['물리학', '기술'], negative=['기초'], topn=3))"
   ]
  },
  {
   "cell_type": "code",
   "execution_count": 34,
   "metadata": {},
   "outputs": [
    {
     "name": "stdout",
     "output_type": "stream",
     "text": [
      "[('국왕', 0.5742357969284058), ('군주', 0.540992021560669), ('왕인', 0.5139432549476624)]\n"
     ]
    }
   ],
   "source": [
    "print(embedding.wv.most_similar(positive=['왕', '여자'], negative=['남자'], topn=3)) #여자와 여왕간의 거리가 멀다."
   ]
  },
  {
   "cell_type": "code",
   "execution_count": 33,
   "metadata": {},
   "outputs": [
    {
     "name": "stdout",
     "output_type": "stream",
     "text": [
      "0.17729928\n"
     ]
    }
   ],
   "source": [
    "print(embedding.wv.similarity('여성','여왕'))"
   ]
  },
  {
   "cell_type": "code",
   "execution_count": 78,
   "metadata": {},
   "outputs": [],
   "source": [
    "##t-sne visualization\n",
    "\n",
    "import numpy as np\n",
    "import matplotlib as mpl\n",
    "import matplotlib.pyplot as plt\n",
    "%matplotlib inline\n",
    "import seaborn as sns\n",
    "import pandas as pd\n",
    "\n",
    "sns.set_style(\"darkgrid\")\n",
    "\n",
    "from sklearn.decomposition import PCA\n",
    "from sklearn.manifold import TSNE"
   ]
  },
  {
   "cell_type": "markdown",
   "metadata": {},
   "source": [
    "300차원의 embedding 벡터를 2차원으로 줄여 도식화한다. scikit-learn의 t-SNE를 이용.\n",
    "\n",
    "모든 단어를 올릴수 없으므로, 중심 단어 (red)와 가장 비슷한 10개의 단어(blue)와 임의로 입력 가능한 여러 개의 단어(green)을 그린다."
   ]
  },
  {
   "cell_type": "code",
   "execution_count": 88,
   "metadata": {},
   "outputs": [],
   "source": [
    "def tsnescatterplot(model, word, list_names):\n",
    "    \"\"\" Plot in seaborn the results from the t-SNE dimensionality reduction algorithm of the vectors of a query word,\n",
    "    its list of most similar words, and a list of words.\n",
    "    \"\"\"\n",
    "    arrays = np.empty((0, 300), dtype='f')\n",
    "    word_labels = [word]\n",
    "    color_list  = ['red']\n",
    "\n",
    "    # adds the vector of the query word\n",
    "    arrays = np.append(arrays, model.wv.__getitem__([word]), axis=0)\n",
    "    \n",
    "    # gets list of most similar words\n",
    "    close_words = model.wv.most_similar([word])\n",
    "    \n",
    "    # adds the vector for each of the closest words to the array\n",
    "    for wrd_score in close_words:\n",
    "        wrd_vector = model.wv.__getitem__([wrd_score[0]])\n",
    "        word_labels.append(wrd_score[0])\n",
    "        color_list.append('blue')\n",
    "        arrays = np.append(arrays, wrd_vector, axis=0)\n",
    "    \n",
    "    # adds the vector for each of the words from list_names to the array\n",
    "    for wrd in list_names:\n",
    "        wrd_vector = model.wv.__getitem__([wrd])\n",
    "        word_labels.append(wrd)\n",
    "        color_list.append('green')\n",
    "        arrays = np.append(arrays, wrd_vector, axis=0)\n",
    "        \n",
    "    # Reduces the dimensionality from 300 to 50 dimensions with PCA\n",
    "   # reduc = PCA(n_components=50).fit_transform(arrays)\n",
    "    \n",
    "    # Finds t-SNE coordinates for 2 dimensions\n",
    "    np.set_printoptions(suppress=True)\n",
    "    \n",
    "    Y = TSNE(n_components=2, random_state=0, perplexity=15).fit_transform(arrays)\n",
    "    \n",
    "    # Sets everything up to plot\n",
    "    df = pd.DataFrame({'x': [x for x in Y[:, 0]],\n",
    "                       'y': [y for y in Y[:, 1]],\n",
    "                       'words': word_labels,\n",
    "                       'color': color_list})\n",
    "    \n",
    "    fig, _ = plt.subplots()\n",
    "    fig.set_size_inches(9, 9)\n",
    "    \n",
    "    # Basic plot\n",
    "    p1 = sns.regplot(data=df,\n",
    "                     x=\"x\",\n",
    "                     y=\"y\",\n",
    "                     fit_reg=False,\n",
    "                     marker=\"o\",\n",
    "                     scatter_kws={'s': 40,\n",
    "                                  'facecolors': df['color']\n",
    "                                 }\n",
    "                    )\n",
    "    \n",
    "    # Adds annotations one by one with a loop\n",
    "    for line in range(0, df.shape[0]):\n",
    "         p1.text(df[\"x\"][line],\n",
    "                 df['y'][line],\n",
    "                 '  ' + df[\"words\"][line].title(),\n",
    "                 horizontalalignment='left',\n",
    "                 verticalalignment='bottom', size='medium',\n",
    "                 color=df['color'][line],\n",
    "                 weight='normal'\n",
    "                ).set_size(15)\n",
    "\n",
    "    \n",
    "    plt.xlim(Y[:, 0].min()-50, Y[:, 0].max()+50)\n",
    "    plt.ylim(Y[:, 1].min()-50, Y[:, 1].max()+50)\n",
    "            \n",
    "    plt.title('t-SNE visualization for {}'.format(word.title()))\n",
    "    plt.savefig('{}_t_sne.png'.format(word))"
   ]
  },
  {
   "cell_type": "code",
   "execution_count": 89,
   "metadata": {},
   "outputs": [
    {
     "data": {
      "image/png": "[encoded data removed]",
      "text/plain": [
       "<Figure size 648x648 with 1 Axes>"
      ]
     },
     "metadata": {},
     "output_type": "display_data"
    },
    {
     "data": {
      "image/png": "[encoded data removed]",
      "text/plain": [
       "<Figure size 648x648 with 1 Axes>"
      ]
     },
     "metadata": {},
     "output_type": "display_data"
    }
   ],
   "source": [
    "##한글 폰트가 필요하다 ::우분투에 있는 나눔고딕 이용\n",
    "mpl.rc('font',family='NanumGothic')\n",
    "tsnescatterplot(embedding, '역사', ['동물', '새', '자료', '한국', '밥', '쓰레기', '여행', '하늘'])\n",
    "tsnescatterplot(embedding, '스마트폰', ['해파리', '인간', '법', '국수', '춤', '분필', '백화점', '돈'])\n",
    "\n",
    "#그럴듯한 결과가 나옴을 확인 가능하다."
   ]
  },
  {
   "cell_type": "code",
   "execution_count": 11,
   "metadata": {},
   "outputs": [],
   "source": [
    "model = gensim.models.Word2Vec.load(\"korw2v\")"
   ]
  },
  {
   "cell_type": "code",
   "execution_count": 15,
   "metadata": {},
   "outputs": [
    {
     "data": {
      "text/plain": [
       "[('바이올린', 0.7650117874145508),\n",
       " ('첼로', 0.6447014808654785),\n",
       " ('하프시코드', 0.6123272180557251),\n",
       " ('색소폰', 0.5831627249717712),\n",
       " ('아코디언', 0.5662407279014587),\n",
       " ('클라리넷', 0.5536226630210876),\n",
       " ('비올라', 0.5514670610427856),\n",
       " ('오르간', 0.5485320687294006),\n",
       " ('삼중주', 0.548393964767456),\n",
       " ('시타르', 0.5457025170326233)]"
      ]
     },
     "execution_count": 15,
     "metadata": {},
     "output_type": "execute_result"
    }
   ],
   "source": [
    "model.wv.most_similar(\"피아노\")"
   ]
  },
  {
   "cell_type": "code",
   "execution_count": null,
   "metadata": {},
   "outputs": [],
   "source": []
  }
 ],
 "metadata": {
  "kernelspec": {
   "display_name": "kamjiPython3",
   "language": "python",
   "name": "kamjipython3"
  },
  "language_info": {
   "codemirror_mode": {
    "name": "ipython",
    "version": 3
   },
   "file_extension": ".py",
   "mimetype": "text/x-python",
   "name": "python",
   "nbconvert_exporter": "python",
   "pygments_lexer": "ipython3",
   "version": "3.5.2"
  }
 },
 "nbformat": 4,
 "nbformat_minor": 2
}
